{
  "nbformat": 4,
  "nbformat_minor": 0,
  "metadata": {
    "colab": {
      "provenance": [],
      "authorship_tag": "ABX9TyM20lmth6faYFwwMkAyb16M",
      "include_colab_link": true
    },
    "kernelspec": {
      "name": "python3",
      "display_name": "Python 3"
    },
    "language_info": {
      "name": "python"
    }
  },
  "cells": [
    {
      "cell_type": "markdown",
      "metadata": {
        "id": "view-in-github",
        "colab_type": "text"
      },
      "source": [
        "<a href=\"https://colab.research.google.com/github/bountyhunter12/ML_Projects/blob/main/AI1.ipynb\" target=\"_parent\"><img src=\"https://colab.research.google.com/assets/colab-badge.svg\" alt=\"Open In Colab\"/></a>"
      ]
    },
    {
      "cell_type": "code",
      "execution_count": null,
      "metadata": {
        "colab": {
          "base_uri": "https://localhost:8080/"
        },
        "id": "yK01uL97kbvx",
        "outputId": "0249c916-2302-4700-8ae6-c694de78d7a7"
      },
      "outputs": [
        {
          "output_type": "stream",
          "name": "stdout",
          "text": [
            "CUET\n"
          ]
        }
      ],
      "source": [
        "name = \"CUET\"\n",
        "print(name)"
      ]
    },
    {
      "cell_type": "code",
      "source": [
        "c = float(input())"
      ],
      "metadata": {
        "colab": {
          "base_uri": "https://localhost:8080/",
          "height": 298
        },
        "id": "VIF23wVallkt",
        "outputId": "d23297c0-4edd-4721-c058-c3db4def0878"
      },
      "execution_count": null,
      "outputs": [
        {
          "output_type": "error",
          "ename": "KeyboardInterrupt",
          "evalue": "Interrupted by user",
          "traceback": [
            "\u001b[0;31m---------------------------------------------------------------------------\u001b[0m",
            "\u001b[0;31mKeyboardInterrupt\u001b[0m                         Traceback (most recent call last)",
            "\u001b[0;32m<ipython-input-2-44fb224f7e91>\u001b[0m in \u001b[0;36m<cell line: 1>\u001b[0;34m()\u001b[0m\n\u001b[0;32m----> 1\u001b[0;31m \u001b[0mc\u001b[0m \u001b[0;34m=\u001b[0m \u001b[0mfloat\u001b[0m\u001b[0;34m(\u001b[0m\u001b[0minput\u001b[0m\u001b[0;34m(\u001b[0m\u001b[0;34m)\u001b[0m\u001b[0;34m)\u001b[0m\u001b[0;34m\u001b[0m\u001b[0;34m\u001b[0m\u001b[0m\n\u001b[0m",
            "\u001b[0;32m/usr/local/lib/python3.10/dist-packages/ipykernel/kernelbase.py\u001b[0m in \u001b[0;36mraw_input\u001b[0;34m(self, prompt)\u001b[0m\n\u001b[1;32m    849\u001b[0m                 \u001b[0;34m\"raw_input was called, but this frontend does not support input requests.\"\u001b[0m\u001b[0;34m\u001b[0m\u001b[0;34m\u001b[0m\u001b[0m\n\u001b[1;32m    850\u001b[0m             )\n\u001b[0;32m--> 851\u001b[0;31m         return self._input_request(str(prompt),\n\u001b[0m\u001b[1;32m    852\u001b[0m             \u001b[0mself\u001b[0m\u001b[0;34m.\u001b[0m\u001b[0m_parent_ident\u001b[0m\u001b[0;34m,\u001b[0m\u001b[0;34m\u001b[0m\u001b[0;34m\u001b[0m\u001b[0m\n\u001b[1;32m    853\u001b[0m             \u001b[0mself\u001b[0m\u001b[0;34m.\u001b[0m\u001b[0m_parent_header\u001b[0m\u001b[0;34m,\u001b[0m\u001b[0;34m\u001b[0m\u001b[0;34m\u001b[0m\u001b[0m\n",
            "\u001b[0;32m/usr/local/lib/python3.10/dist-packages/ipykernel/kernelbase.py\u001b[0m in \u001b[0;36m_input_request\u001b[0;34m(self, prompt, ident, parent, password)\u001b[0m\n\u001b[1;32m    893\u001b[0m             \u001b[0;32mexcept\u001b[0m \u001b[0mKeyboardInterrupt\u001b[0m\u001b[0;34m:\u001b[0m\u001b[0;34m\u001b[0m\u001b[0;34m\u001b[0m\u001b[0m\n\u001b[1;32m    894\u001b[0m                 \u001b[0;31m# re-raise KeyboardInterrupt, to truncate traceback\u001b[0m\u001b[0;34m\u001b[0m\u001b[0;34m\u001b[0m\u001b[0m\n\u001b[0;32m--> 895\u001b[0;31m                 \u001b[0;32mraise\u001b[0m \u001b[0mKeyboardInterrupt\u001b[0m\u001b[0;34m(\u001b[0m\u001b[0;34m\"Interrupted by user\"\u001b[0m\u001b[0;34m)\u001b[0m \u001b[0;32mfrom\u001b[0m \u001b[0;32mNone\u001b[0m\u001b[0;34m\u001b[0m\u001b[0;34m\u001b[0m\u001b[0m\n\u001b[0m\u001b[1;32m    896\u001b[0m             \u001b[0;32mexcept\u001b[0m \u001b[0mException\u001b[0m \u001b[0;32mas\u001b[0m \u001b[0me\u001b[0m\u001b[0;34m:\u001b[0m\u001b[0;34m\u001b[0m\u001b[0;34m\u001b[0m\u001b[0m\n\u001b[1;32m    897\u001b[0m                 \u001b[0mself\u001b[0m\u001b[0;34m.\u001b[0m\u001b[0mlog\u001b[0m\u001b[0;34m.\u001b[0m\u001b[0mwarning\u001b[0m\u001b[0;34m(\u001b[0m\u001b[0;34m\"Invalid Message:\"\u001b[0m\u001b[0;34m,\u001b[0m \u001b[0mexc_info\u001b[0m\u001b[0;34m=\u001b[0m\u001b[0;32mTrue\u001b[0m\u001b[0;34m)\u001b[0m\u001b[0;34m\u001b[0m\u001b[0;34m\u001b[0m\u001b[0m\n",
            "\u001b[0;31mKeyboardInterrupt\u001b[0m: Interrupted by user"
          ]
        }
      ]
    },
    {
      "cell_type": "code",
      "source": [
        "f  = (c * 9/5) + 32"
      ],
      "metadata": {
        "id": "LbTgPc4jtZqS"
      },
      "execution_count": null,
      "outputs": []
    },
    {
      "cell_type": "code",
      "source": [
        "f1 = float(input())"
      ],
      "metadata": {
        "id": "pjDbFx2Dtwbv"
      },
      "execution_count": null,
      "outputs": []
    },
    {
      "cell_type": "code",
      "source": [
        "c1 = (f - 32) * 5/9"
      ],
      "metadata": {
        "id": "VIyIIeTXt0Y3"
      },
      "execution_count": null,
      "outputs": []
    },
    {
      "cell_type": "code",
      "source": [
        "x = int(input(\"first number: \"))\n",
        "y = int(input(\"second number: \"))\n",
        "z = int(input(\"third number: \"))\n",
        "mx = max(x, y, z)\n",
        "mn = min(x, y, z)\n",
        "print(f\"The maximum number is: {mx}\")\n",
        "print(f\"The minimum number is: {mn}\")\n",
        "\n"
      ],
      "metadata": {
        "colab": {
          "base_uri": "https://localhost:8080/"
        },
        "id": "3GWSa3Os8nJv",
        "outputId": "5b997311-b78c-4f96-b5ea-b55d8059273b"
      },
      "execution_count": null,
      "outputs": [
        {
          "output_type": "stream",
          "name": "stdout",
          "text": [
            "first number: 5\n",
            "second number: 8\n",
            "third number: 9\n",
            "The maximum number is: 9\n",
            "The minimum number is: 5\n"
          ]
        }
      ]
    },
    {
      "cell_type": "code",
      "source": [
        "def bfs(graph, node):\n",
        "    visited = []\n",
        "    queue = []\n",
        "\n",
        "    visited.append(node)\n",
        "    queue.append(node)\n",
        "\n",
        "    while queue:\n",
        "        s = queue.pop(0)\n",
        "        print(s, end=\" \")\n",
        "\n",
        "\n",
        "        for neighbour in graph[s]:\n",
        "            if neighbour not in visited:\n",
        "                visited.append(neighbour)\n",
        "                queue.append(neighbour)\n",
        "\n",
        "graph = {\n",
        "    'A': ['B', 'C'],\n",
        "    'B': ['D', 'E'],\n",
        "    'C': ['F'],\n",
        "    'D': [],\n",
        "    'E': ['F'],\n",
        "    'F': []\n",
        "}\n",
        "\n",
        "bfs(graph, 'A')"
      ],
      "metadata": {
        "id": "zn72IPME3P6j"
      },
      "execution_count": null,
      "outputs": []
    },
    {
      "cell_type": "code",
      "source": [
        "def dfs(graph, start):\n",
        "    visited = set()\n",
        "    stack = [start]\n",
        "\n",
        "    while stack:\n",
        "        current = stack.pop()\n",
        "        if current not in visited:\n",
        "            visited.add(current)\n",
        "            print(current, end=\" \")\n",
        "            for neighbor in graph[current]:\n",
        "                if neighbor not in visited:\n",
        "                    stack.append(neighbor)\n",
        "\n",
        "\n",
        "graph = {\n",
        "    'A': ['C', 'E'],\n",
        "    'B': [],\n",
        "    'C': ['D'],\n",
        "    'D': [],\n",
        "    'E': ['D', 'F', 'J'],\n",
        "    'F': [],\n",
        "    'J': ['B', 'F']\n",
        "}\n",
        "\n",
        "print(\"DFS:\")\n",
        "dfs(graph, 'A')\n",
        "\n"
      ],
      "metadata": {
        "id": "ZAmOULzl0eLC",
        "colab": {
          "base_uri": "https://localhost:8080/"
        },
        "outputId": "60227bff-86e9-4c62-af22-6f639fa3b146"
      },
      "execution_count": null,
      "outputs": [
        {
          "output_type": "stream",
          "name": "stdout",
          "text": [
            "DFS:\n",
            "A E J F B D C "
          ]
        }
      ]
    },
    {
      "cell_type": "code",
      "source": [],
      "metadata": {
        "colab": {
          "base_uri": "https://localhost:8080/",
          "height": 106
        },
        "id": "CmGBkcbw9jBl",
        "outputId": "627f43d0-3c1d-426c-9ce1-84b7fea0947f"
      },
      "execution_count": null,
      "outputs": [
        {
          "output_type": "error",
          "ename": "IndentationError",
          "evalue": "unexpected indent (<ipython-input-5-7bb8615c5845>, line 84)",
          "traceback": [
            "\u001b[0;36m  File \u001b[0;32m\"<ipython-input-5-7bb8615c5845>\"\u001b[0;36m, line \u001b[0;32m84\u001b[0m\n\u001b[0;31m    print(\"Initial State:\")\u001b[0m\n\u001b[0m    ^\u001b[0m\n\u001b[0;31mIndentationError\u001b[0m\u001b[0;31m:\u001b[0m unexpected indent\n"
          ]
        }
      ]
    },
    {
      "cell_type": "code",
      "source": [
        "import copy\n",
        "\n",
        "\n",
        "def misplaced_tiles(current_state, goal_state):\n",
        "    count = 0\n",
        "    for i in range(3):\n",
        "        for j in range(3):\n",
        "            if current_state[i][j] != 0 and current_state[i][j] != goal_state[i][j]:\n",
        "                count += 1\n",
        "    return count\n",
        "\n",
        "\n",
        "def get_neighbors(state):\n",
        "    neighbors = []\n",
        "    x, y = None, None\n",
        "\n",
        "\n",
        "    for i in range(3):\n",
        "        for j in range(3):\n",
        "            if state[i][j] == 0:\n",
        "                x, y = i, j\n",
        "                break\n",
        "\n",
        "    moves = [(-1, 0), (1, 0), (0, -1), (0, 1)]\n",
        "\n",
        "    for dx, dy in moves:\n",
        "        new_x, new_y = x + dx, y + dy\n",
        "        if 0 <= new_x < 3 and 0 <= new_y < 3:\n",
        "            new_state = copy.deepcopy(state)\n",
        "            new_state[x][y], new_state[new_x][new_y] = new_state[new_x][new_y], new_state[x][y]\n",
        "            neighbors.append(new_state)\n",
        "    return neighbors\n",
        "\n",
        "def hill_climbing(start_state, goal_state):\n",
        "    current_state = start_state\n",
        "    current_heuristic = misplaced_tiles(current_state, goal_state)\n",
        "\n",
        "    print(\"Initial State:\")\n",
        "    for row in current_state:\n",
        "        print(row)\n",
        "\n",
        "    while True:\n",
        "        neighbors = get_neighbors(current_state)\n",
        "        next_state = None\n",
        "        next_heuristic = float('inf')\n",
        "\n",
        "\n",
        "        for neighbor in neighbors:\n",
        "            heuristic = misplaced_tiles(neighbor, goal_state)\n",
        "            if heuristic < next_heuristic:\n",
        "                next_state = neighbor\n",
        "                next_heuristic = heuristic\n",
        "\n",
        "        if next_heuristic >= current_heuristic:\n",
        "            print(\"\\nStuck at local minimum or no better moves:\")\n",
        "            for row in current_state:\n",
        "                print(row)\n",
        "            return current_state\n",
        "\n",
        "\n",
        "        current_state = next_state\n",
        "        current_heuristic = next_heuristic\n",
        "\n",
        "        print(\"\\nNext State:\")\n",
        "        for row in current_state:\n",
        "            print(row)\n",
        "\n",
        "        if current_heuristic == 0:\n",
        "            print(\"\\nGoal Reached!\")\n",
        "            for row in current_state:\n",
        "                print(row)\n",
        "            return current_state\n",
        "\n",
        "start_state = [[2, 8, 3],\n",
        "[1, 6, 4],\n",
        "[7, 0, 5]]\n",
        "goal_state = [[1, 2, 3],\n",
        "[8, 0, 4],\n",
        "[7, 6, 5]]\n",
        "\n",
        "\n",
        "\n",
        "hill_climbing(start_state, goal_state)\n"
      ],
      "metadata": {
        "colab": {
          "base_uri": "https://localhost:8080/"
        },
        "id": "jjRW3Ui7A39Z",
        "outputId": "06558d22-c236-4975-bb2d-27e3849117a2"
      },
      "execution_count": null,
      "outputs": [
        {
          "output_type": "stream",
          "name": "stdout",
          "text": [
            "Initial State:\n",
            "[2, 8, 3]\n",
            "[1, 6, 4]\n",
            "[7, 0, 5]\n",
            "\n",
            "Next State:\n",
            "[2, 8, 3]\n",
            "[1, 0, 4]\n",
            "[7, 6, 5]\n",
            "\n",
            "Stuck at local minimum or no better moves:\n",
            "[2, 8, 3]\n",
            "[1, 0, 4]\n",
            "[7, 6, 5]\n"
          ]
        },
        {
          "output_type": "execute_result",
          "data": {
            "text/plain": [
              "[[2, 8, 3], [1, 0, 4], [7, 6, 5]]"
            ]
          },
          "metadata": {},
          "execution_count": 4
        }
      ]
    }
  ]
}